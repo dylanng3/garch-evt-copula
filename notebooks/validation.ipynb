{
 "cells": [
  {
   "cell_type": "code",
   "execution_count": null,
   "id": "659df581",
   "metadata": {},
   "outputs": [],
   "source": [
    "def plot_rolling_var(std_resids, var_values, idx_list, var_violations, out_dir):\n",
    "    \"\"\"\n",
    "    Plot rolling VaR, realized values, and violations for each asset.\n",
    "    \"\"\"\n",
    "    os.makedirs(out_dir, exist_ok=True)\n",
    "    tickers = std_resids.columns\n",
    "    for col in tickers:\n",
    "        plt.figure(figsize=(12,4))\n",
    "        # Realized values\n",
    "        realized = std_resids[col].iloc[idx_list].values\n",
    "        # VaR values\n",
    "        var_series = np.array(var_values[col])\n",
    "        # Violation mask\n",
    "        violations = np.array(var_violations[col], dtype=bool)\n",
    "        plt.plot(idx_list, realized, label='Realized', color='blue')\n",
    "        plt.plot(idx_list, var_series, label='VaR', color='red')\n",
    "        # Mark violations\n",
    "        if violations.any():\n",
    "            plt.scatter(np.array(idx_list)[violations], realized[violations], color='orange', label='Violation', zorder=5)\n",
    "        plt.title(f'Rolling VaR Backtest - {col}')\n",
    "        plt.xlabel('Time Index')\n",
    "        plt.ylabel('Value')\n",
    "        plt.legend()\n",
    "        plt.tight_layout()\n",
    "        plt.savefig(os.path.join(out_dir, f'rolling_var_{col}.png'))\n",
    "        plt.close()"
   ]
  }
 ],
 "metadata": {
  "kernelspec": {
   "display_name": ".venv",
   "language": "python",
   "name": "python3"
  },
  "language_info": {
   "name": "python",
   "version": "3.13.7"
  }
 },
 "nbformat": 4,
 "nbformat_minor": 5
}
