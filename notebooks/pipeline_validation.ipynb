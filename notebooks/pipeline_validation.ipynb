{
 "cells": [
  {
   "cell_type": "code",
   "execution_count": 8,
   "id": "659df581",
   "metadata": {},
   "outputs": [],
   "source": [
    "import numpy as np\n",
    "import pandas as pd\n",
    "import pickle\n",
    "import pyvinecopulib as pv\n",
    "from scipy.stats import rankdata, kendalltau\n",
    "from statsmodels.stats.diagnostic import acorr_ljungbox\n",
    "from scipy.stats import chi2\n",
    "from scipy.spatial.distance import cdist\n",
    "import matplotlib.pyplot as plt\n",
    "import seaborn as sns\n",
    "import os\n",
    "from tqdm import tqdm\n",
    "import json\n",
    "import importlib\n",
    "import sys\n",
    "sys.path.append('../src')\n",
    "\n",
    "import validation\n",
    "importlib.reload(validation)\n",
    "from validation import (\n",
    "    rolling_var_backtest, kupiec_test, christoffersen_test, plot_rolling_var, \n",
    "    plot_pit_diagnostics, compare_dependence, compare_tail_dependence, vine_aic_bic_loglik,\n",
    "    energy_distance, convert_for_json\n",
    ")"
   ]
  },
  {
   "cell_type": "code",
   "execution_count": 9,
   "id": "533b476a",
   "metadata": {},
   "outputs": [],
   "source": [
    "# === Setup ===\n",
    "std_resids_path = \"../models/garch/standardized_residuals.csv\"\n",
    "evt_param_path = \"../models/evt/marginal_distributions.pkl\"\n",
    "copula_path = \"../models/copula/best_copula.json\"\n",
    "out_dir = \"../validation\"\n",
    "os.makedirs(out_dir, exist_ok=True)\n",
    "\n",
    "std_resids = pd.read_csv(std_resids_path, index_col=0)\n",
    "with open(evt_param_path, \"rb\") as f:\n",
    "    evt_params = pickle.load(f)"
   ]
  },
  {
   "cell_type": "code",
   "execution_count": 10,
   "id": "3dadc940",
   "metadata": {},
   "outputs": [
    {
     "name": "stdout",
     "output_type": "stream",
     "text": [
      "Running rolling VaR backtest...\n"
     ]
    },
    {
     "name": "stderr",
     "output_type": "stream",
     "text": [
      "Rolling VaR: 100%|██████████| 2111/2111 [13:09<00:00,  2.67it/s]"
     ]
    },
    {
     "name": "stdout",
     "output_type": "stream",
     "text": [
      "Saved rolling VaR backtest results to ../validation\\rolling_var_results.pkl\n"
     ]
    },
    {
     "name": "stderr",
     "output_type": "stream",
     "text": [
      "\n"
     ]
    }
   ],
   "source": [
    "validation_summary = {}\n",
    "\n",
    "# === 1. Rolling VaR backtest ===\n",
    "rolling_var_path = os.path.join(out_dir, \"rolling_var_results.pkl\")\n",
    "if os.path.exists(rolling_var_path):\n",
    "    with open(rolling_var_path, \"rb\") as f:\n",
    "        results, var_values, idx_list = pickle.load(f)\n",
    "    print(\"Loaded rolling VaR backtest results from file.\")\n",
    "else:\n",
    "    print(\"Running rolling VaR backtest...\")\n",
    "    results, var_values, idx_list = rolling_var_backtest(std_resids, evt_params, window=500, alpha=0.05, step=1)\n",
    "    with open(rolling_var_path, \"wb\") as f:\n",
    "        pickle.dump((results, var_values, idx_list), f)\n",
    "    print(f\"Saved rolling VaR backtest results to {rolling_var_path}\")\n",
    "\n",
    "validation_summary[\"rolling_var\"] = results\n",
    "validation_summary[\"var_values\"] = var_values\n",
    "validation_summary[\"idx_list\"] = idx_list"
   ]
  },
  {
   "cell_type": "code",
   "execution_count": 12,
   "id": "43dad0d8",
   "metadata": {},
   "outputs": [
    {
     "name": "stdout",
     "output_type": "stream",
     "text": [
      "Kupiec test for VaR:\n",
      "FPT_DATA: {'n': 2111, 'violations': 117, 'expected': 105.55000000000001, 'hit_rate': 0.05542396968261488, 'LR_pof': 1.2649614408878733, 'p_value': 0.26071404266587583, 'reject_H0_5%': False}\n",
      "HPG_DATA: {'n': 2111, 'violations': 115, 'expected': 105.55000000000001, 'hit_rate': 0.05447655139744197, 'LR_pof': 0.8664914549672176, 'p_value': 0.3519284569546528, 'reject_H0_5%': False}\n",
      "MBB_DATA: {'n': 2111, 'violations': 118, 'expected': 105.55000000000001, 'hit_rate': 0.05589767882520132, 'LR_pof': 1.4914157177291827, 'p_value': 0.22199693311787916, 'reject_H0_5%': False}\n",
      "MWG_DATA: {'n': 2111, 'violations': 107, 'expected': 105.55000000000001, 'hit_rate': 0.050686878256750355, 'LR_pof': 0.020877525918876927, 'p_value': 0.8851130993588041, 'reject_H0_5%': False}\n",
      "VIC_DATA: {'n': 2111, 'violations': 114, 'expected': 105.55000000000001, 'hit_rate': 0.05400284225485552, 'LR_pof': 0.694772039171994, 'p_value': 0.40454596065561155, 'reject_H0_5%': False}\n"
     ]
    }
   ],
   "source": [
    "# 1a. Kupiec test for VaR\n",
    "kupiec_summary = {}\n",
    "print(\"Kupiec test for VaR:\")\n",
    "for col, res in results.items():\n",
    "    # Lấy lại chuỗi giá trị thực và VaR dự báo\n",
    "    # VaR dự báo: var_values[col], giá trị thực: std_resids.iloc[idx_list][col].values\n",
    "    var_series = np.array(var_values[col])\n",
    "    realized = std_resids[col].iloc[idx_list].values\n",
    "    kupiec_summary[col] = kupiec_test(realized, var_series, alpha=0.05)\n",
    "    print(f\"{col}: {kupiec_summary[col]}\")\n",
    "validation_summary[\"kupiec\"] = kupiec_summary"
   ]
  },
  {
   "cell_type": "code",
   "execution_count": 15,
   "id": "a659abb5",
   "metadata": {},
   "outputs": [
    {
     "name": "stdout",
     "output_type": "stream",
     "text": [
      "VIC_DATA: {'LRuc': 0.6947720349678548, 'p_uc': 0.40454596207727933, 'LRind': 0.9535745777894569, 'p_ind': 0.32881108527245984, 'LRcc': 1.6483466127573116, 'p_cc': 0.4385974283289368, 'n_violate': 114, 'n_test': 2111, 'hit_rate': 0.05400284225485552, 'expected': 105.55000000000001, 'n00': 1886, 'n01': 110, 'n10': 110, 'n11': 4}\n",
      "Christoffersen test and Kupiec test for VaR calculated.\n"
     ]
    }
   ],
   "source": [
    "# 1b. Christoffersen test for VaR\n",
    "christoffersen_summary = {}\n",
    "for col, res in results.items():\n",
    "    violations = res.get(\"violations\", None)\n",
    "    if violations is not None:\n",
    "        christoffersen_summary[col] = christoffersen_test(\n",
    "            violations, alpha=0.05\n",
    "        )\n",
    "print(f\"{col}: {christoffersen_summary[col]}\")\n",
    "validation_summary[\"christoffersen\"] = christoffersen_summary\n",
    "print(\"Christoffersen test and Kupiec test for VaR calculated.\")"
   ]
  },
  {
   "cell_type": "code",
   "execution_count": 16,
   "id": "91c15a4d",
   "metadata": {},
   "outputs": [
    {
     "name": "stdout",
     "output_type": "stream",
     "text": [
      "Rolling VaR plots saved to ../validation\\rolling_var_plots\n"
     ]
    }
   ],
   "source": [
    "# 1c. Plot rolling VaR backtest results\n",
    "var_violations = {}\n",
    "for col in var_values:\n",
    "    if \"violations\" in results.get(col, {}):\n",
    "        var_violations[col] = results[col][\"violations\"]\n",
    "    else:\n",
    "        var_violations[col] = [False] * len(var_values[col])\n",
    "plot_rolling_var(std_resids, var_values, idx_list, var_violations, out_dir=os.path.join(out_dir, \"rolling_var_plots\"))\n",
    "print(f\"Rolling VaR plots saved to {os.path.join(out_dir, 'rolling_var_plots')}\")"
   ]
  },
  {
   "cell_type": "code",
   "execution_count": 18,
   "id": "8f0ce3c8",
   "metadata": {},
   "outputs": [],
   "source": [
    "# === 2. Fit Vinecop on the entire dataset ===\n",
    "pit_df = pd.read_csv('../models/copula/pit_data.csv', index_col=0)\n",
    "pit_df = pit_df[std_resids.columns]  # Ensure column order matches\n",
    "u = pit_df\n",
    "vine = pv.Vinecop(u.shape[1])\n",
    "family_set = [\n",
    "    getattr(pv.BicopFamily, \"gaussian\", 1),\n",
    "    getattr(pv.BicopFamily, \"student\", 2),\n",
    "    getattr(pv.BicopFamily, \"clayton\", 3),\n",
    "    getattr(pv.BicopFamily, \"gumbel\", 4),\n",
    "]\n",
    "controls = pv.FitControlsVinecop(family_set=family_set)\n",
    "u_clip = np.clip(u.values.astype(float), 1e-6, 1-1e-6)\n",
    "vine.select(u_clip, controls=controls)"
   ]
  },
  {
   "cell_type": "code",
   "execution_count": 19,
   "id": "48e9a574",
   "metadata": {},
   "outputs": [
    {
     "name": "stdout",
     "output_type": "stream",
     "text": [
      "=== Rosenblatt PIT diagnostics ===\n",
      "PIT dim 1: Ljung-Box p-value = 0.0657\n",
      "PIT dim 2: Ljung-Box p-value = 0.2602\n",
      "PIT dim 3: Ljung-Box p-value = 0.6607\n",
      "PIT dim 4: Ljung-Box p-value = 0.0418\n",
      "PIT dim 5: Ljung-Box p-value = 0.2149\n"
     ]
    }
   ],
   "source": [
    "# === 3. PIT diagnostics ===\n",
    "print(\"=== Rosenblatt PIT diagnostics ===\")\n",
    "pit = vine.rosenblatt(u.values)\n",
    "plot_pit_diagnostics(pit, out_dir)\n",
    "pit_ljungbox_pvalues = []\n",
    "for i in range(pit.shape[1]): # type: ignore\n",
    "    lb_p = acorr_ljungbox(pit[:, i], lags=[10], return_df=True)[\"lb_pvalue\"].iloc[0] # type: ignore\n",
    "    pit_ljungbox_pvalues.append(lb_p)\n",
    "validation_summary[\"pit_ljungbox_pvalues\"] = pit_ljungbox_pvalues"
   ]
  },
  {
   "cell_type": "code",
   "execution_count": 21,
   "id": "d7f10375",
   "metadata": {},
   "outputs": [
    {
     "name": "stdout",
     "output_type": "stream",
     "text": [
      "Frobenius norm of Kendall's tau difference: 0.0517\n",
      "AIC/BIC/loglik of Vinecop: {'loglik': 1442.8261011173695, 'aic': -2865.652202234739, 'bic': -2806.9773165477477, 'n_params': 10}\n",
      "Energy distance (real U vs simulated U): 0.0004\n"
     ]
    }
   ],
   "source": [
    "# === 4. Dependence metrics ===\n",
    "u_sim = vine.simulate(len(u))\n",
    "frob_norm = compare_dependence(pd.DataFrame(u.values), pd.DataFrame(u_sim), out_dir) # type: ignore\n",
    "validation_summary[\"frob_norm_kendalltau\"] = frob_norm\n",
    "compare_tail_dependence(pd.DataFrame(u.values), pd.DataFrame(u_sim), out_dir, q=0.95) # type: ignore\n",
    "validation_summary[\"tail_dependence_heatmap\"] = [\n",
    "    os.path.join(out_dir, \"delta_taildep_lower.png\"),\n",
    "    os.path.join(out_dir, \"delta_taildep_upper.png\"),\n",
    "]\n",
    "\n",
    "# === 5. Model selection metrics (AIC/BIC/loglik) ===\n",
    "vine_metrics = vine_aic_bic_loglik(vine, u.values)\n",
    "validation_summary[\"vine_aic_bic_loglik\"] = vine_metrics\n",
    "print(\"AIC/BIC/loglik of Vinecop:\", vine_metrics)\n",
    "\n",
    "# === 6. Distance metrics ===\n",
    "e_dist = energy_distance(u.values, u_sim)\n",
    "validation_summary[\"energy_distance\"] = e_dist\n",
    "print(f\"Energy distance (real U vs simulated U): {e_dist:.4f}\")"
   ]
  },
  {
   "cell_type": "code",
   "execution_count": 22,
   "id": "6173e7a0",
   "metadata": {},
   "outputs": [
    {
     "name": "stdout",
     "output_type": "stream",
     "text": [
      "Saved summary results to ../validation\\validation_summary.json\n",
      "Validation plots saved to ../validation\n"
     ]
    }
   ],
   "source": [
    "# === 7. Save summary ===\n",
    "validation_summary_json = {\n",
    "    k: convert_for_json(v) for k, v in validation_summary.items()\n",
    "}\n",
    "with open(\n",
    "    os.path.join(out_dir, \"validation_summary.json\"), \"w\", encoding=\"utf-8\"\n",
    ") as f:\n",
    "    json.dump(validation_summary_json, f, indent=2, ensure_ascii=False)\n",
    "\n",
    "print(f\"Saved summary results to {os.path.join(out_dir, 'validation_summary.json')}\")\n",
    "print(f\"Validation plots saved to {out_dir}\")"
   ]
  }
 ],
 "metadata": {
  "kernelspec": {
   "display_name": ".venv",
   "language": "python",
   "name": "python3"
  },
  "language_info": {
   "codemirror_mode": {
    "name": "ipython",
    "version": 3
   },
   "file_extension": ".py",
   "mimetype": "text/x-python",
   "name": "python",
   "nbconvert_exporter": "python",
   "pygments_lexer": "ipython3",
   "version": "3.13.4"
  }
 },
 "nbformat": 4,
 "nbformat_minor": 5
}
