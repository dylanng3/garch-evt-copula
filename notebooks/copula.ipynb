{
 "cells": [
  {
   "cell_type": "code",
   "execution_count": 2,
   "id": "7ef8da71",
   "metadata": {},
   "outputs": [],
   "source": [
    "import numpy as np\n",
    "import pandas as pd\n",
    "import pickle\n",
    "import sys\n",
    "sys.path.append('../src')\n",
    "from copula_simulation import fit_copula_and_save, load_copula_and_marginals, simulate_copula_portfolio, comprehensive_analysis"
   ]
  },
  {
   "cell_type": "code",
   "execution_count": null,
   "id": "eb8e1520",
   "metadata": {},
   "outputs": [],
   "source": [
    "def main():\n",
    "    parser = argparse.ArgumentParser(description=\"Copula-based portfolio risk simulation and fitting.\")\n",
    "    subparsers = parser.add_subparsers(dest='command')\n",
    "\n",
    "    # Subparser for simulation\n",
    "    sim_parser = subparsers.add_parser('simulate', help='Simulate portfolio risk using fitted copula')\n",
    "    sim_parser.add_argument('--copula', type=str, default='models/best_copula.pkl', help='Path to copula model pickle file')\n",
    "    sim_parser.add_argument('--std_resids', type=str, default='data/processed/std_resids.csv', help='Path to standardized residuals CSV')\n",
    "    sim_parser.add_argument('--n_sim', type=int, default=10000, help='Number of simulations')\n",
    "    sim_parser.add_argument('--output', type=str, default='data/processed/simulated_copula_samples.csv', help='Output CSV file for simulated samples')\n",
    "\n",
    "    # Subparser for fitting copula\n",
    "    fit_parser = subparsers.add_parser('fit', help='Fit copula model and save to pickle')\n",
    "    fit_parser.add_argument('--std_resids', type=str, default='data/processed/std_resids.csv', help='Path to standardized residuals CSV')\n",
    "    fit_parser.add_argument('--copula_type', type=str, default='vine_student', choices=['vine_student','vine_gaussian','gaussian','clayton','gumbel'], help='Type of copula to fit (vine_student, vine_gaussian, gaussian, clayton, gumbel)')\n",
    "    fit_parser.add_argument('--output', type=str, default='models/best_copula.pkl', help='Output path for copula pickle')\n",
    "\n",
    "    # Subparser for analysis\n",
    "    analyze_parser = subparsers.add_parser('analyze', help='Comprehensive analysis of simulated results')\n",
    "    analyze_parser.add_argument('--sim_csv', type=str, default='data/processed/simulated_copula_samples.csv', help='Path to simulated samples CSV')\n",
    "    analyze_parser.add_argument('--real_csv', type=str, default=None, help='Path to real data CSV (optional)')\n",
    "    analyze_parser.add_argument('--alpha', type=float, default=0.05, help='VaR/ES quantile (default 0.05)')\n",
    "    analyze_parser.add_argument('--out_dir', type=str, default='reports/figures', help='Output directory for figures')\n",
    "\n",
    "    args = parser.parse_args()\n",
    "\n",
    "    if args.command == 'fit':\n",
    "        fit_copula_and_save(args.std_resids, args.copula_type, args.output)\n",
    "    elif args.command == 'simulate':\n",
    "        print(f\"Loading copula model from: {args.copula}\")\n",
    "        print(f\"Loading standardized residuals from: {args.std_resids}\")\n",
    "        best_copula_model, marginals = load_copula_and_marginals(args.copula, args.std_resids)\n",
    "        print(f\"Simulating {args.n_sim} samples...\")\n",
    "        sim_data = simulate_copula_portfolio(best_copula_model, marginals, n_sim=args.n_sim)\n",
    "        os.makedirs(os.path.dirname(args.output), exist_ok=True)\n",
    "        sim_data.to_csv(args.output, index=False)\n",
    "        print(f\"Simulated samples saved to: {args.output}\")\n",
    "    elif args.command == 'analyze':\n",
    "        comprehensive_analysis(args.sim_csv, real_csv_path=args.real_csv, alpha=args.alpha, out_dir=args.out_dir)\n",
    "    else:\n",
    "        parser.print_help()\n",
    "\n",
    "\n",
    "if __name__ == \"__main__\":\n",
    "    main()"
   ]
  },
  {
   "cell_type": "code",
   "execution_count": 5,
   "id": "2b225529",
   "metadata": {},
   "outputs": [
    {
     "name": "stdout",
     "output_type": "stream",
     "text": [
      "Fitted clayton copula for FPT_DATA-HPG_DATA and saved to models/best_copula.pkl\\clayton_FPT_DATA_HPG_DATA.pkl\n",
      "Fitted clayton copula for FPT_DATA-MWG_DATA and saved to models/best_copula.pkl\\clayton_FPT_DATA_MWG_DATA.pkl\n",
      "Fitted clayton copula for FPT_DATA-VCB_DATA and saved to models/best_copula.pkl\\clayton_FPT_DATA_VCB_DATA.pkl\n",
      "Fitted clayton copula for FPT_DATA-VIC_DATA and saved to models/best_copula.pkl\\clayton_FPT_DATA_VIC_DATA.pkl\n",
      "Fitted clayton copula for HPG_DATA-MWG_DATA and saved to models/best_copula.pkl\\clayton_HPG_DATA_MWG_DATA.pkl\n",
      "Fitted clayton copula for HPG_DATA-VCB_DATA and saved to models/best_copula.pkl\\clayton_HPG_DATA_VCB_DATA.pkl\n",
      "Fitted clayton copula for HPG_DATA-VIC_DATA and saved to models/best_copula.pkl\\clayton_HPG_DATA_VIC_DATA.pkl\n",
      "Fitted clayton copula for MWG_DATA-VCB_DATA and saved to models/best_copula.pkl\\clayton_MWG_DATA_VCB_DATA.pkl\n",
      "Fitted clayton copula for MWG_DATA-VIC_DATA and saved to models/best_copula.pkl\\clayton_MWG_DATA_VIC_DATA.pkl\n",
      "Fitted clayton copula for VCB_DATA-VIC_DATA and saved to models/best_copula.pkl\\clayton_VCB_DATA_VIC_DATA.pkl\n"
     ]
    }
   ],
   "source": [
    "fit_copula_and_save('../data/processed/std_resids.csv', copula_type='clayton', out_path='models/best_copula.pkl')"
   ]
  },
  {
   "cell_type": "code",
   "execution_count": null,
   "id": "83266c09",
   "metadata": {},
   "outputs": [],
   "source": [
    "best_copula_model, marginals = load_copula_and_marginals('models/best_copula.pkl', '../data/processed/std_resids.csv')\n",
    "simulate_copula_portfolio(best_copula_model, marginals, n_sim=10000, random_state=None)"
   ]
  }
 ],
 "metadata": {
  "kernelspec": {
   "display_name": ".venv",
   "language": "python",
   "name": "python3"
  },
  "language_info": {
   "codemirror_mode": {
    "name": "ipython",
    "version": 3
   },
   "file_extension": ".py",
   "mimetype": "text/x-python",
   "name": "python",
   "nbconvert_exporter": "python",
   "pygments_lexer": "ipython3",
   "version": "3.13.4"
  }
 },
 "nbformat": 4,
 "nbformat_minor": 5
}
